{
 "cells": [
  {
   "cell_type": "markdown",
   "metadata": {},
   "source": [
    "These are our imports"
   ]
  },
  {
   "cell_type": "code",
   "execution_count": null,
   "metadata": {},
   "outputs": [],
   "source": [
    "#imports 2021.2.576440691\n",
    "import numpy as np\n",
    "print(\"numpy imported\")\n",
    "import json\n",
    "print(\"json imported\")\n",
    "import time\n",
    "print(\"time imported\")\n",
    "import tensorflow as tf\n",
    "from tensorflow import keras\n",
    "from tensorflow.keras import layers\n",
    "from tensorflow.keras.layers.experimental.preprocessing import TextVectorization\n",
    "from keras.preprocessing.text import Tokenizer\n",
    "from tensorflow.keras.preprocessing.sequence import pad_sequences\n",
    "from tensorflow.keras.utils import to_categorical\n",
    "print(\"tensorflow imported\") \n",
    "from keras import Sequential\n",
    "print(\"keras imported\")\n",
    "import config\n",
    "channelID,serverID,targetID = config.getScope()\n",
    "print(\"config imported\")\n",
    "import pickle\n",
    "print(\"pickle imported\")\n",
    "import random\n",
    "print(\"random imported\")\n",
    "import string\n",
    "print(\"string imported\")\n",
    "from scipy.sparse import csc_matrix\n",
    "print(\"scipy imported\")"
   ]
  },
  {
   "cell_type": "markdown",
   "metadata": {},
   "source": [
    "Run the section below to process your data"
   ]
  },
  {
   "cell_type": "code",
   "execution_count": null,
   "metadata": {},
   "outputs": [],
   "source": [
    "def exists(filename):\n",
    "    try:\n",
    "        f = open(filename, \"rb\")\n",
    "        f.close()\n",
    "        return True\n",
    "    except:\n",
    "        return False\n",
    "if exists(\"message.list\") == False:\n",
    "    channelID,serverID,targetID = config.getScope()\n",
    "    daTestDoc = open(\"TestDoc\",\"r\",encoding=\"utf-8\")\n",
    "    daMessageList = eval(daTestDoc.read())\n",
    "    with open('message.list','wb') as messageList_file:\n",
    "        pickle.dump(daMessageList,messageList_file)\n",
    "        print(\":flushed:\")\n",
    "print('not flushed')"
   ]
  },
  {
   "cell_type": "code",
   "execution_count": null,
   "metadata": {
    "tags": []
   },
   "outputs": [],
   "source": [
    "inputList,outputList = [],[]\n",
    "with open(\"message.list\",'rb') as daMessageList:\n",
    "    channelID,serverID,targetID = config.getScope()\n",
    "    daMessageList = pickle.load(daMessageList)\n",
    "    for i in range(len(daMessageList)):\n",
    "        if i != len(daMessageList)+1:\n",
    "            message = daMessageList[i]\n",
    "            if message[\"author\"][\"id\"] == str(targetID):\n",
    "                #if i != 0:\n",
    "                if True:\n",
    "                    previousMessage = daMessageList[i-1]\n",
    "                    if previousMessage[\"author\"][\"id\"] == str(targetID):\n",
    "                        if len(outputList) != 0:    \n",
    "                            outputList[len(outputList)-1] += \"   \" + message[\"content\"]\n",
    "                    else:\n",
    "                        if type(message.get(\"referenced_message\"))!=dict:\n",
    "                            outputList.append(message[\"content\"])\n",
    "                            message = daMessageList[i+1]\n",
    "                            inputList.append(message[\"content\"])\n",
    "                        else:\n",
    "                            inputList.append(message[\"referenced_message\"][\"content\"])\n",
    "                            outputList.append(message[\"content\"])\n",
    "\n",
    "        myIndice = random.randint(0,len(inputList))\n",
    "\n",
    "    # for message in range(len(inputList)):\n",
    "    # \tinputList[message] = removePunctuation(removeCaps(inputList[message]))\n",
    "    with open('input.list','wb') as inputList_file:\n",
    "        pickle.dump(inputList,inputList_file)\n",
    "    with open('output.list','wb') as outputList_file:\n",
    "        pickle.dump(outputList,outputList_file)\n",
    "    print(\"Complete! (1/2)\")\n",
    "\n",
    "\n",
    "with open('input.list','rb') as inputList_file:\n",
    "    with open('output.list','rb') as outputList_file:\n",
    "        outputList = pickle.load(outputList_file)\n",
    "        inputList = pickle.load(inputList_file)\n",
    "        \n",
    "        removePunctuation = lambda x: ''.join(char for char in x if not char in string.punctuation)\n",
    "        removeCaps = lambda x: x.lower()\n",
    "\n",
    "        for message in range(len(inputList)):\n",
    "            inputList[message] = removePunctuation(removeCaps(inputList[message]))\n",
    "            outputList[message] = removePunctuation(removeCaps(outputList[message]))\n",
    "        #inputList = np.array(inputList)\n",
    "        #outputList = np.array(outputList)\n",
    "        with open('input.list','wb') as inputList_file:\n",
    "            pickle.dump(inputList,inputList_file)\n",
    "        with open('output.list','wb') as outputList_file:\n",
    "            pickle.dump(outputList,outputList_file)\n",
    "\n",
    "        print(\"Complete! (2/2)\")"
   ]
  },
  {
   "cell_type": "code",
   "execution_count": null,
   "metadata": {},
   "outputs": [],
   "source": [
    "daShape = None\n",
    "\n",
    "\n",
    "with open('input.list','rb') as inputList_file:\n",
    "    with open('output.list','rb') as outputList_file:\n",
    "        outputList = pickle.load(outputList_file)\n",
    "        inputList = pickle.load(inputList_file)\n",
    "\n",
    "\n",
    "        tokenizer = Tokenizer()\n",
    "        #print(type(inputList+outputList))\n",
    "        tokenizer.fit_on_texts(inputList)\n",
    "        #print(inputList[0:10])\n",
    "        inputList = tokenizer.texts_to_sequences(inputList)\n",
    "        outputList = tokenizer.texts_to_sequences(outputList)\n",
    "\n",
    "        #print(inputList)\n",
    "        \n",
    "        inputList = pad_sequences(inputList)\n",
    "        outputList = pad_sequences(outputList)\n",
    "\n",
    "\n",
    "        print(inputList.shape)\n",
    "        print(outputList.shape)\n",
    "        if inputList.shape[1] > outputList.shape[1]:\n",
    "            daMaxLen = inputList.shape[1]\n",
    "        else:\n",
    "            daMaxLen = outputList.shape[1]\n",
    "        print(daMaxLen)\n",
    "\n",
    "        inputList = pad_sequences(inputList, maxlen = daMaxLen)\n",
    "        outputList = pad_sequences(outputList, maxlen = daMaxLen)\n",
    "\n",
    "        daShape = outputList.shape\n",
    "\n",
    "        \n",
    "\n",
    "        inputList = np.expand_dims(inputList,axis=0)\n",
    "        outputList = np.expand_dims(outputList,axis=0)\n",
    "\n",
    "        inputList = inputList.astype(np.uint8)\n",
    "        outputList = outputList.astype(np.uint8)\n",
    "        print(inputList[0:10])\n",
    "        print(inputList.shape)\n",
    "        inputList,outputList = inputList[0],outputList[0]\n",
    "        print(inputList.shape)\n",
    "        with open('input.list','wb') as inputList_file:\n",
    "            pickle.dump(inputList,inputList_file)\n",
    "        with open('output.list','wb') as outputList_file:\n",
    "            pickle.dump(outputList,outputList_file)\n",
    "        print(\"Complete!\")\n",
    "print(\"sus\")"
   ]
  },
  {
   "cell_type": "code",
   "execution_count": null,
   "metadata": {},
   "outputs": [],
   "source": [
    "from tensorflow.keras.layers import Input, LSTM, Dense, Dropout, Embedding, TimeDistributed\n",
    "from tensorflow.keras.models import Model\n",
    "from tensorflow.keras.utils import plot_model\n",
    "from tensorflow.keras.optimizers import RMSprop"
   ]
  },
  {
   "cell_type": "code",
   "execution_count": null,
   "metadata": {},
   "outputs": [],
   "source": [
    "#model config\n",
    "randomIndice = random.randint(0,len(inputList)-1)\n",
    "\n",
    "dataSize = 317 #number of features"
   ]
  },
  {
   "cell_type": "code",
   "execution_count": null,
   "metadata": {},
   "outputs": [],
   "source": [
    "from keras.models import Model\n",
    "from keras.layers import Input, LSTM, Dense, Embedding, Flatten\n",
    "x = 32\n",
    "\n",
    "visInput = Input(shape = (dataSize))\n",
    "vocabSize = len(tokenizer.word_index) #gets the vocab size from tokenizer, duh\n",
    "EmbeddingLayer = Embedding(input_dim=vocabSize,output_dim=x,input_length=daMaxLen)#vocabsize, number of output dimensions(try 8), inputlength(the padded length of the things)\n",
    "\n",
    "EmbeddingOutput = EmbeddingLayer(visInput)\n",
    "\n",
    "flattenedOut = Flatten()(EmbeddingOutput)\n",
    "EncoderLSTM = LSTM(317,input_shape=(inputList.shape[1],x),return_sequences=True,return_state=True)#number of neurons, input shape arg1 is number of timesteps, arg2 is dimensions of words/embeddings\n",
    "encoder_output,encoder_h,encoder_c = EncoderLSTM(EmbeddingOutput)\n",
    "print(encoder_output.shape)\n",
    "DecoderLSTM = LSTM(317,input_shape=(inputList.shape[1],x),return_sequences=False,return_state=False)\n",
    "decoder_output = DecoderLSTM(encoder_output)"
   ]
  },
  {
   "cell_type": "code",
   "execution_count": null,
   "metadata": {
    "tags": []
   },
   "outputs": [],
   "source": [
    "# #Inverse tokenization\n",
    "# reverse_word_map = tokenizer.word_index\n",
    "# #print(reverse_word_map.keys())\n",
    "# reverse_word_map = {v: k for k, v in reverse_word_map.items()}\n",
    "# reverse_word_map[0] = \"\"\n",
    "\n",
    "#Model\n",
    "\n",
    "inputList = np.array(inputList)\n",
    "outputList = np.array(outputList)\n",
    "print(inputList.shape,outputList.shape)\n",
    "\n",
    "batch_size,epochs=10,1\n",
    "\n",
    "training_model = Model(inputs=visInput, outputs=decoder_output)#Compiling\n",
    "training_model.compile(optimizer='rmsprop', loss='categorical_crossentropy', metrics=['accuracy'], sample_weight_mode='temporal')#Training\n",
    "training_model.fit(x=inputList,y=outputList, batch_size = batch_size, epochs = epochs)\n",
    "training_model.save('julytraining.h5')"
   ]
  },
  {
   "cell_type": "markdown",
   "metadata": {},
   "source": [
    "Stats"
   ]
  },
  {
   "cell_type": "code",
   "execution_count": null,
   "metadata": {},
   "outputs": [],
   "source": [
    "training_model.summary()"
   ]
  },
  {
   "cell_type": "code",
   "execution_count": null,
   "metadata": {},
   "outputs": [],
   "source": [
    "testText = np.array(inputList[0])\n",
    "print(testText)\n",
    "print(type(testText))\n",
    "training_model = keras.models.load_model(\"julytraining.h5\",compile=True)\n",
    "print(type(testText))\n",
    "modeloutput = training_model.predict(testText)\n",
    "print(modeloutput)"
   ]
  },
  {
   "cell_type": "code",
   "execution_count": null,
   "metadata": {},
   "outputs": [],
   "source": [
    "with open('input.list','rb') as inputList:\n",
    "    with open('output.list','rb') as outputList:\n",
    "        inputList = pickle.load(inputList)\n",
    "        outputList = pickle.load(outputList)\n",
    "        inputWordCounter = 0\n",
    "        inputCharCounter = 0\n",
    "        outputWordCounter = 0\n",
    "        outputCharCounter = 0\n",
    "        for message in range(len(inputList)):\n",
    "            for char in inputList[message]:\n",
    "                if char == \" \":\n",
    "                    inputWordCounter += 1\n",
    "                inputCharCounter += 1\n",
    "        for message in range(len(inputList)):\n",
    "            for char in outputList[message]:\n",
    "                if char == \" \":\n",
    "                    outputWordCounter += 1\n",
    "                outputCharCounter += 1\n",
    "        print(\"Count of Input Words: \" + str(inputWordCounter))\n",
    "        print(\"Count of Input Characters: \" + str(inputCharCounter))\n",
    "        print(\"Count of Output Words: \" + str(outputWordCounter))\n",
    "        print(\"Count of Output Characters: \" + str(outputCharCounter))\n",
    "print(\"sus\")"
   ]
  },
  {
   "cell_type": "code",
   "execution_count": null,
   "metadata": {},
   "outputs": [],
   "source": [
    "import sys\n",
    "\n",
    "# These are the usual ipython objects, including this one you are creating\n",
    "ipython_vars = ['In', 'Out', 'exit', 'quit', 'get_ipython', 'ipython_vars']\n",
    "\n",
    "# Get a sorted list of the objects and their sizes\n",
    "sorted([(x, sys.getsizeof(globals().get(x))) for x in dir() if not x.startswith('_') and x not in sys.modules and x not in ipython_vars], key=lambda x: x[1], reverse=True)"
   ]
  },
  {
   "cell_type": "code",
   "execution_count": null,
   "metadata": {},
   "outputs": [],
   "source": []
  }
 ],
 "metadata": {
  "interpreter": {
   "hash": "63fd5069d213b44bf678585dea6b12cceca9941eaf7f819626cde1f2670de90d"
  },
  "kernelspec": {
   "display_name": "Python 3",
   "language": "python",
   "name": "python3"
  },
  "language_info": {
   "codemirror_mode": {
    "name": "ipython",
    "version": 3
   },
   "file_extension": ".py",
   "mimetype": "text/x-python",
   "name": "python",
   "nbconvert_exporter": "python",
   "pygments_lexer": "ipython3",
   "version": "3.9.6"
  },
  "metadata": {
   "interpreter": {
    "hash": "63fd5069d213b44bf678585dea6b12cceca9941eaf7f819626cde1f2670de90d"
   }
  }
 },
 "nbformat": 4,
 "nbformat_minor": 2
}