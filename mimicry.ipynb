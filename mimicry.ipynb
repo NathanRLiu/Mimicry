{
 "metadata": {
  "language_info": {
   "codemirror_mode": {
    "name": "ipython",
    "version": 3
   },
   "file_extension": ".py",
   "mimetype": "text/x-python",
   "name": "python",
   "nbconvert_exporter": "python",
   "pygments_lexer": "ipython3",
   "version": "3.9.2"
  },
  "orig_nbformat": 2,
  "kernelspec": {
   "name": "python3",
   "display_name": "Python 3.9.2 64-bit"
  },
  "metadata": {
   "interpreter": {
    "hash": "63fd5069d213b44bf678585dea6b12cceca9941eaf7f819626cde1f2670de90d"
   }
  },
  "interpreter": {
   "hash": "63fd5069d213b44bf678585dea6b12cceca9941eaf7f819626cde1f2670de90d"
  }
 },
 "nbformat": 4,
 "nbformat_minor": 2,
 "cells": [
  {
   "source": [
    "These are our imports"
   ],
   "cell_type": "markdown",
   "metadata": {}
  },
  {
   "source": [
    "#imports\n",
    "import numpy as np\n",
    "print(\"numpy imported\")\n",
    "import json\n",
    "print(\"json imported\")\n",
    "import time\n",
    "print(\"time imported\")\n",
    "import tensorflow as tf\n",
    "from tensorflow import keras\n",
    "from tensorflow.keras import layers\n",
    "print(\"tensorflow imported\") \n",
    "from keras import Sequential\n",
    "print(\"keras imported\")\n",
    "import config\n",
    "channelID,serverID,targetID = config.getScope()\n",
    "print(\"config imported\")\n",
    "import pickle\n",
    "print(\"pickle imported\")\n",
    "import random\n",
    "print(\"random imported\")\n",
    "import string\n",
    "print(\"string imported\")\n"
   ],
   "cell_type": "code",
   "metadata": {},
   "execution_count": 2,
   "outputs": [
    {
     "output_type": "stream",
     "name": "stdout",
     "text": [
      "numpy imported\n",
      "json imported\n",
      "time imported\n",
      "tensorflow imported\n",
      "keras imported\n",
      "config imported\n",
      "pickle imported\n",
      "random imported\n",
      "string imported\n"
     ]
    }
   ]
  },
  {
   "source": [
    "Run the section below to process your data"
   ],
   "cell_type": "markdown",
   "metadata": {}
  },
  {
   "cell_type": "code",
   "execution_count": 5,
   "metadata": {},
   "outputs": [
    {
     "output_type": "stream",
     "name": "stdout",
     "text": [
      ":flushed:\n"
     ]
    }
   ],
   "source": [
    "channelID,serverID,targetID = config.getScope()\n",
    "daTestDoc = open(\"TestDoc\",\"r\",encoding=\"utf-8\")\n",
    "daMessageList = eval(daTestDoc.read())\n",
    "with open('message.list','wb') as messageList_file:\n",
    "    pickle.dump(daMessageList,messageList_file)\n",
    "    print(\":flushed:\")"
   ]
  },
  {
   "cell_type": "code",
   "execution_count": 6,
   "metadata": {},
   "outputs": [
    {
     "output_type": "stream",
     "name": "stdout",
     "text": [
      "Complete!\n"
     ]
    }
   ],
   "source": [
    "inputList,outputList = [],[]\n",
    "with open(\"message.list\",'rb') as daMessageList:\n",
    "    channelID,serverID,targetID = config.getScope()\n",
    "    daMessageList = pickle.load(daMessageList)\n",
    "\n",
    "    for i in range(len(daMessageList)):\n",
    "        message = daMessageList[i]\n",
    "        if message[\"author\"][\"id\"] == str(targetID):\n",
    "            if type(message.get(\"referenced_message\"))!=dict:\n",
    "                if len(daMessageList) != i:\n",
    "                    outputList.append(message[\"content\"])\n",
    "                    message = daMessageList[i+1]\n",
    "                    inputList.append(message[\"content\"])\n",
    "            else:\n",
    "                inputList.append(message[\"referenced_message\"][\"content\"])\n",
    "                outputList.append(message[\"content\"])\n",
    "\n",
    "\n",
    "    myIndice = random.randint(0,len(inputList))\n",
    "\n",
    "    # for message in range(len(inputList)):\n",
    "    # \tinputList[message] = removePunctuation(removeCaps(inputList[message]))\n",
    "\n",
    "    with open('input.list','wb') as inputList_file:\n",
    "        pickle.dump(inputList,inputList_file)\n",
    "    with open('output.list','wb') as outputList_file:\n",
    "        pickle.dump(outputList,outputList_file)\n",
    "    print(\"Complete!\")"
   ]
  },
  {
   "cell_type": "code",
   "execution_count": 13,
   "metadata": {},
   "outputs": [
    {
     "output_type": "stream",
     "name": "stdout",
     "text": [
      "Complete!\n"
     ]
    }
   ],
   "source": [
    "with open('input.list','rb') as inputList_file:\n",
    "    with open('output.list','rb') as outputList_file:\n",
    "        outputList = pickle.load(outputList_file)\n",
    "        inputList = pickle.load(inputList_file)\n",
    "        \n",
    "        removePunctuation = lambda x: ''.join(char for char in x if not char in string.punctuation)\n",
    "        removeCaps = lambda x: x.lower()\n",
    "\n",
    "        for message in range(len(inputList)):\n",
    "            inputList[message] = removePunctuation(removeCaps(inputList[message]))\n",
    "            outputList[message] = removePunctuation(removeCaps(outputList[message]))\n",
    "        with open('input.list','wb') as inputList_file:\n",
    "            pickle.dump(inputList,inputList_file)\n",
    "        with open('output.list','wb') as outputList_file:\n",
    "            pickle.dump(outputList,outputList_file)\n",
    "        print(\"Complete!\")"
   ]
  },
  {
   "source": [
    "** This is a test to make sure the filters run correctly. **"
   ],
   "cell_type": "markdown",
   "metadata": {}
  },
  {
   "cell_type": "code",
   "execution_count": 14,
   "metadata": {},
   "outputs": [],
   "source": [
    "with open('input.list','rb') as inputList:\n",
    "    with open('output.list','rb') as outputList:\n",
    "        inputList = pickle.load(inputList)\n",
    "        outputList = pickle.load(outputList)\n",
    "        for message in range(len(inputList)):\n",
    "            for letter in (\"abcdefghijklmnopqrstuvwxyz\".upper()+string.punctuation):\n",
    "                if letter in inputList[message]:\n",
    "                    print(inputList[message])\n",
    "                if letter in outputList[message]:\n",
    "                    print(outputList[message])\n",
    "print(\"!\")"
   ]
  },
  {
   "cell_type": "code",
   "execution_count": null,
   "metadata": {},
   "outputs": [],
   "source": [
    "#Create model\n",
    "model = keras.Sequential(\n",
    "    [\n",
    "        layers.Dense(2, activation=\"relu\", name=\"layer1\"),\n",
    "        layers.Dense(3, activation=\"relu\", name=\"layer2\"),\n",
    "        layers.Dense(4, name=\"layer3\"),\n",
    "    ]\n",
    ")"
   ]
  },
  {
   "cell_type": "code",
   "execution_count": null,
   "metadata": {},
   "outputs": [],
   "source": [
    "\n",
    "\n",
    "for msgNum in range(len(messageList)):         \n",
    "    if messageList[msgNum][\"author\"][\"id\"] == \"000000000000000000\":\n",
    "        print(messageList[msgNum])\n",
    "        if \"message_reference\" in messageList[msgNum]:\n",
    "            print(\"Reply\")\n",
    "            "
   ]
  },
  {
   "cell_type": "code",
   "execution_count": null,
   "metadata": {},
   "outputs": [],
   "source": [
    "#View model info\n",
    "model.summary()\n"
   ]
  }
 ]
}